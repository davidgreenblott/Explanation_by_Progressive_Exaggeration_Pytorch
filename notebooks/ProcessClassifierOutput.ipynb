{
 "cells": [
  {
   "cell_type": "markdown",
   "metadata": {},
   "source": [
    "# Imports"
   ]
  },
  {
   "cell_type": "code",
   "execution_count": 1,
   "metadata": {},
   "outputs": [],
   "source": [
    "import yaml\n",
    "import os\n",
    "import pandas as pd\n",
    "import numpy as np\n",
    "from sklearn.metrics import roc_auc_score\n",
    "from sklearn.metrics import accuracy_score\n",
    "from sklearn.metrics import recall_score\n",
    "from sklearn.metrics import confusion_matrix"
   ]
  },
  {
   "cell_type": "markdown",
   "metadata": {},
   "source": [
    "# Read config"
   ]
  },
  {
   "cell_type": "code",
   "execution_count": 7,
   "metadata": {},
   "outputs": [
    {
     "name": "stdout",
     "output_type": "stream",
     "text": [
      "image_dir ./data/CelebA/images/\n",
      "image_label_dict ./data/CelebA/Young_binary_classification.txt\n",
      "log_dir ./output/classifier\n",
      "name CelebA-Young\n",
      "num_channel 3\n",
      "num_class 1\n",
      "input_size 128\n",
      "batch_size 32\n",
      "epochs 1\n",
      "ckpt_dir_continue \n"
     ]
    }
   ],
   "source": [
    "config_path = '../configs/celebA_Young_Classifier.yaml'\n",
    "with open(config_path) as f:\n",
    "    config = yaml.safe_load(f)\n",
    "    \n",
    "for k in config.keys():\n",
    "    print(k, config[k])"
   ]
  },
  {
   "cell_type": "code",
   "execution_count": 17,
   "metadata": {},
   "outputs": [
    {
     "name": "stdout",
     "output_type": "stream",
     "text": [
      "Output directory: ./output/classifier/CelebA-Young/classifier_output\n"
     ]
    }
   ],
   "source": [
    "output_dir = os.path.join(config['log_dir'], config['name'], 'classifier_output')\n",
    "print(f'Output directory: {output_dir}')"
   ]
  },
  {
   "cell_type": "code",
   "execution_count": 11,
   "metadata": {},
   "outputs": [
    {
     "name": "stdout",
     "output_type": "stream",
     "text": [
      "Categories: ['Young']\n"
     ]
    }
   ],
   "source": [
    "data_df = pd.read_csv(os.path.join('../', config['image_label_dict']))\n",
    "categories = data_df.columns[1: ].to_list()\n",
    "print(f'Categories: {categories}')"
   ]
  },
  {
   "cell_type": "markdown",
   "metadata": {},
   "source": [
    "# Load saved output from classifier"
   ]
  },
  {
   "cell_type": "code",
   "execution_count": 18,
   "metadata": {},
   "outputs": [
    {
     "name": "stdout",
     "output_type": "stream",
     "text": [
      "(135712,) (135712, 1) (135712, 1)\n",
      "(66848,) (66848, 1) (66848, 1)\n"
     ]
    }
   ],
   "source": [
    "# Read classifier output\n",
    "train_or_test = 'train'\n",
    "names = np.load(os.path.join('../', output_dir, 'name_' + train_or_test+ '.npy'))\n",
    "prediction_y = np.load(os.path.join('../', output_dir, 'prediction_y_' + train_or_test + '.npy'))\n",
    "true_y = np.load(os.path.join('../', output_dir, 'true_y_' + train_or_test + '.npy'))\n",
    "train_or_test = 'test'\n",
    "names_i = np.load(os.path.join('../', output_dir,'name_' + train_or_test + '.npy'))\n",
    "prediction_y_i = np.load(os.path.join('../', output_dir, 'prediction_y_' + train_or_test+'.npy'))\n",
    "true_y_i = np.load(os.path.join('../', output_dir, 'true_y_' + train_or_test + '.npy'))\n",
    "\n",
    "print(names.shape, prediction_y.shape, true_y.shape)\n",
    "print(names_i.shape, prediction_y_i.shape, true_y_i.shape)"
   ]
  },
  {
   "cell_type": "code",
   "execution_count": 19,
   "metadata": {},
   "outputs": [],
   "source": [
    "true_y = np.reshape(true_y, [-1,len(categories)])\n",
    "true_y_i = np.reshape(true_y_i, [-1,len(categories)])"
   ]
  },
  {
   "cell_type": "markdown",
   "metadata": {},
   "source": [
    "# View results from classifier"
   ]
  },
  {
   "cell_type": "code",
   "execution_count": 20,
   "metadata": {},
   "outputs": [
    {
     "name": "stdout",
     "output_type": "stream",
     "text": [
      "Young 0\n",
      "ROC-AUC train:  0.9475348458089712\n",
      "ROC-AUC test:  0.9335593985717343\n",
      "Accuracy train:  0.9008635934921009\n",
      "Accuracy test:  0.8916347534705601\n",
      "Recall train:  0.9710048293533239\n",
      "Recall test:  0.9665893271461717\n",
      "Stats train:  (array([0., 1.]), array([ 30729, 104983])) 101939\n",
      "Stats test:  (array([0., 1.]), array([15128, 51720])) 49992\n",
      "[[ 9612  5516]\n",
      " [ 1728 49992]]\n",
      "[[ 20319  10410]\n",
      " [  3044 101939]]\n"
     ]
    }
   ],
   "source": [
    "for i in range(prediction_y.shape[1]):\n",
    "    print(categories[i],i)\n",
    "    if prediction_y.shape[1] == 2:\n",
    "        j = 1\n",
    "    else:\n",
    "        j = i\n",
    "    print(\"ROC-AUC train: \", roc_auc_score(true_y[:,i], prediction_y[:,j]))\n",
    "    try:\n",
    "        print(\"ROC-AUC test: \", roc_auc_score(true_y_i[:,i], prediction_y_i[:,j]))\n",
    "    except:\n",
    "        a = 0\n",
    "    print(\"Accuracy train: \", accuracy_score(true_y[:,i], (prediction_y[:,j]>0.5).astype(int)))\n",
    "    print(\"Accuracy test: \", accuracy_score(true_y_i[:,i], (prediction_y_i[:,j]>0.5).astype(int)))\n",
    "    print(\"Recall train: \", recall_score(true_y[:,i], (prediction_y[:,j]>0.5).astype(int)))\n",
    "    print(\"Recall test: \", recall_score(true_y_i[:,i], (prediction_y_i[:,j]>0.5).astype(int)))\n",
    "    tp = np.sum((prediction_y[true_y[:,i] == 1,j]>0.5).astype(int))\n",
    "    tp_i = np.sum((prediction_y_i[true_y_i[:,i] == 1,j]>0.5).astype(int))\n",
    "    print(\"Stats train: \", np.unique(true_y[:,i], return_counts=True), tp)\n",
    "    print(\"Stats test: \", np.unique(true_y_i[:,i], return_counts=True),tp_i)\n",
    "    print(confusion_matrix(true_y_i[:,i],  (prediction_y_i[:,j]>0.5).astype(int)))\n",
    "    print(confusion_matrix(true_y[:,i],  (prediction_y[:,j]>0.5).astype(int)))\n",
    "    if prediction_y.shape[1] == 2:\n",
    "        break"
   ]
  },
  {
   "cell_type": "markdown",
   "metadata": {},
   "source": [
    "# Choose a target class to build explanation"
   ]
  },
  {
   "cell_type": "code",
   "execution_count": 21,
   "metadata": {},
   "outputs": [
    {
     "name": "stdout",
     "output_type": "stream",
     "text": [
      "Young\n"
     ]
    }
   ],
   "source": [
    "current_index = 0\n",
    "name = categories[current_index]\n",
    "print(name)\n",
    "current_index_prob = 1"
   ]
  },
  {
   "cell_type": "markdown",
   "metadata": {},
   "source": [
    "# Create a dataframe from results"
   ]
  },
  {
   "cell_type": "code",
   "execution_count": 22,
   "metadata": {},
   "outputs": [
    {
     "name": "stdout",
     "output_type": "stream",
     "text": [
      "(66848, 4)\n",
      "(array([0, 1, 2, 3, 4, 5, 6, 7, 8, 9]), array([ 4604,  1854,  1585,  1485,  1812,  2143,  2759,  3844,  6568,\n",
      "       40194]))\n"
     ]
    },
    {
     "data": {
      "text/html": [
       "<div>\n",
       "<style scoped>\n",
       "    .dataframe tbody tr th:only-of-type {\n",
       "        vertical-align: middle;\n",
       "    }\n",
       "\n",
       "    .dataframe tbody tr th {\n",
       "        vertical-align: top;\n",
       "    }\n",
       "\n",
       "    .dataframe thead th {\n",
       "        text-align: right;\n",
       "    }\n",
       "</style>\n",
       "<table border=\"1\" class=\"dataframe\">\n",
       "  <thead>\n",
       "    <tr style=\"text-align: right;\">\n",
       "      <th></th>\n",
       "      <th>filename</th>\n",
       "      <th>label</th>\n",
       "      <th>prob</th>\n",
       "      <th>bin</th>\n",
       "    </tr>\n",
       "  </thead>\n",
       "  <tbody>\n",
       "    <tr>\n",
       "      <th>0</th>\n",
       "      <td>./data/CelebA/images/050310.jpg</td>\n",
       "      <td>0</td>\n",
       "      <td>0.00895621</td>\n",
       "      <td>0</td>\n",
       "    </tr>\n",
       "    <tr>\n",
       "      <th>1</th>\n",
       "      <td>./data/CelebA/images/175279.jpg</td>\n",
       "      <td>1</td>\n",
       "      <td>0.998721</td>\n",
       "      <td>9</td>\n",
       "    </tr>\n",
       "    <tr>\n",
       "      <th>2</th>\n",
       "      <td>./data/CelebA/images/011029.jpg</td>\n",
       "      <td>1</td>\n",
       "      <td>0.999747</td>\n",
       "      <td>9</td>\n",
       "    </tr>\n",
       "  </tbody>\n",
       "</table>\n",
       "</div>"
      ],
      "text/plain": [
       "                          filename label        prob  bin\n",
       "0  ./data/CelebA/images/050310.jpg     0  0.00895621    0\n",
       "1  ./data/CelebA/images/175279.jpg     1    0.998721    9\n",
       "2  ./data/CelebA/images/011029.jpg     1    0.999747    9"
      ]
     },
     "execution_count": 22,
     "metadata": {},
     "output_type": "execute_result"
    }
   ],
   "source": [
    "if len(categories) == 1:\n",
    "    df_test_results = pd.DataFrame(data = [names_i, true_y_i[:, 0], prediction_y_i[:, 0]]).T\n",
    "else:\n",
    "    df_test_results = pd.DataFrame(data = [names_i, true_y_i[:,current_index], prediction_y_i[:,current_index_prob]]).T\n",
    "\n",
    "df_test_results = df_test_results.rename(index=str, columns={0: \"filename\", 1: \"label\", 2:\"prob\"})\n",
    "df_test_results['bin'] = np.floor(df_test_results[\"prob\"].astype('float') * 10).astype('int')\n",
    "print(df_test_results.shape)\n",
    "print(np.unique(df_test_results['bin'] ,return_counts=True))\n",
    "df_test_results.head(3)"
   ]
  },
  {
   "cell_type": "code",
   "execution_count": 23,
   "metadata": {},
   "outputs": [
    {
     "name": "stdout",
     "output_type": "stream",
     "text": [
      "(135712, 4)\n",
      "(array([0, 1, 2, 3, 4, 5, 6, 7, 8, 9]), array([ 9305,  4009,  3257,  3252,  3540,  4226,  5432,  7681, 13362,\n",
      "       81648]))\n"
     ]
    },
    {
     "data": {
      "text/html": [
       "<div>\n",
       "<style scoped>\n",
       "    .dataframe tbody tr th:only-of-type {\n",
       "        vertical-align: middle;\n",
       "    }\n",
       "\n",
       "    .dataframe tbody tr th {\n",
       "        vertical-align: top;\n",
       "    }\n",
       "\n",
       "    .dataframe thead th {\n",
       "        text-align: right;\n",
       "    }\n",
       "</style>\n",
       "<table border=\"1\" class=\"dataframe\">\n",
       "  <thead>\n",
       "    <tr style=\"text-align: right;\">\n",
       "      <th></th>\n",
       "      <th>filename</th>\n",
       "      <th>label</th>\n",
       "      <th>prob</th>\n",
       "      <th>bin</th>\n",
       "    </tr>\n",
       "  </thead>\n",
       "  <tbody>\n",
       "    <tr>\n",
       "      <th>0</th>\n",
       "      <td>./data/CelebA/images/065143.jpg</td>\n",
       "      <td>1</td>\n",
       "      <td>0.906238</td>\n",
       "      <td>9</td>\n",
       "    </tr>\n",
       "    <tr>\n",
       "      <th>1</th>\n",
       "      <td>./data/CelebA/images/025166.jpg</td>\n",
       "      <td>0</td>\n",
       "      <td>0.191957</td>\n",
       "      <td>1</td>\n",
       "    </tr>\n",
       "    <tr>\n",
       "      <th>2</th>\n",
       "      <td>./data/CelebA/images/155702.jpg</td>\n",
       "      <td>1</td>\n",
       "      <td>0.955753</td>\n",
       "      <td>9</td>\n",
       "    </tr>\n",
       "  </tbody>\n",
       "</table>\n",
       "</div>"
      ],
      "text/plain": [
       "                          filename label      prob  bin\n",
       "0  ./data/CelebA/images/065143.jpg     1  0.906238    9\n",
       "1  ./data/CelebA/images/025166.jpg     0  0.191957    1\n",
       "2  ./data/CelebA/images/155702.jpg     1  0.955753    9"
      ]
     },
     "execution_count": 23,
     "metadata": {},
     "output_type": "execute_result"
    }
   ],
   "source": [
    "if len(categories) == 1:\n",
    "    df_train_results = pd.DataFrame(data = [names, true_y[:, 0], prediction_y[:, 0]]).T\n",
    "else:\n",
    "    df_train_results = pd.DataFrame(data = [names, true_y[:,current_index], prediction_y[:,current_index_prob]]).T\n",
    "\n",
    "df_train_results = df_train_results.rename(index=str, columns={0: \"filename\", 1: \"label\", 2:\"prob\"})\n",
    "df_train_results['bin'] = np.floor(df_train_results[\"prob\"].astype('float') * 10).astype('int')\n",
    "print(df_train_results.shape)\n",
    "print(np.unique(df_train_results['bin'] ,return_counts=True))\n",
    "df_train_results.head(3)"
   ]
  },
  {
   "cell_type": "code",
   "execution_count": 24,
   "metadata": {},
   "outputs": [
    {
     "name": "stdout",
     "output_type": "stream",
     "text": [
      "(202560, 4)\n"
     ]
    },
    {
     "data": {
      "text/html": [
       "<div>\n",
       "<style scoped>\n",
       "    .dataframe tbody tr th:only-of-type {\n",
       "        vertical-align: middle;\n",
       "    }\n",
       "\n",
       "    .dataframe tbody tr th {\n",
       "        vertical-align: top;\n",
       "    }\n",
       "\n",
       "    .dataframe thead th {\n",
       "        text-align: right;\n",
       "    }\n",
       "</style>\n",
       "<table border=\"1\" class=\"dataframe\">\n",
       "  <thead>\n",
       "    <tr style=\"text-align: right;\">\n",
       "      <th></th>\n",
       "      <th>filename</th>\n",
       "      <th>label</th>\n",
       "      <th>prob</th>\n",
       "      <th>bin</th>\n",
       "    </tr>\n",
       "  </thead>\n",
       "  <tbody>\n",
       "    <tr>\n",
       "      <th>0</th>\n",
       "      <td>./data/CelebA/images/065143.jpg</td>\n",
       "      <td>1</td>\n",
       "      <td>0.906238</td>\n",
       "      <td>9</td>\n",
       "    </tr>\n",
       "  </tbody>\n",
       "</table>\n",
       "</div>"
      ],
      "text/plain": [
       "                          filename label      prob  bin\n",
       "0  ./data/CelebA/images/065143.jpg     1  0.906238    9"
      ]
     },
     "execution_count": 24,
     "metadata": {},
     "output_type": "execute_result"
    }
   ],
   "source": [
    "df = pd.concat([df_train_results, df_test_results])\n",
    "df = df.drop_duplicates()\n",
    "print(df.shape)\n",
    "df.head(1)"
   ]
  },
  {
   "cell_type": "markdown",
   "metadata": {},
   "source": [
    "# Plot reliability curve"
   ]
  },
  {
   "cell_type": "code",
   "execution_count": 27,
   "metadata": {},
   "outputs": [
    {
     "data": {
      "image/png": "[encoded data removed]",
      "text/plain": [
       "<Figure size 640x480 with 1 Axes>"
      ]
     },
     "metadata": {},
     "output_type": "display_data"
    }
   ],
   "source": [
    "import matplotlib.pyplot as plt\n",
    "\n",
    "#Reliability Curve\n",
    "from sklearn.calibration import CalibratedClassifierCV, calibration_curve\n",
    "from sklearn.metrics import (brier_score_loss, precision_score, recall_score,\n",
    "                             f1_score)\n",
    "true_label = np.asarray(df['label']).astype(int)\n",
    "predicted_prob = np.asarray(df[\"prob\"]).astype(float)\n",
    "fraction_of_positives, mean_predicted_value = calibration_curve(true_label, predicted_prob, n_bins=10)\n",
    "clf_score = brier_score_loss(true_label, predicted_prob, pos_label=1)\n",
    "plt.plot(mean_predicted_value, fraction_of_positives, \"s-\",\n",
    "                 label=\"%s (%1.3f)\" % ('Data-before binning', clf_score))\n",
    "plt.plot([0, 1], [0, 1], \"k:\", label=\"Perfectly calibrated\")\n",
    "plt.ylabel('Fraction of positives')\n",
    "#plt.ylim([-0.05, 1.05])\n",
    "plt.title('Calibration plots  (reliability curve) for '+ name)\n",
    "plt.legend()\n",
    "plt.show()"
   ]
  },
  {
   "cell_type": "markdown",
   "metadata": {},
   "source": [
    "# Create bins"
   ]
  },
  {
   "cell_type": "code",
   "execution_count": 28,
   "metadata": {},
   "outputs": [
    {
     "data": {
      "text/html": [
       "<div>\n",
       "<style scoped>\n",
       "    .dataframe tbody tr th:only-of-type {\n",
       "        vertical-align: middle;\n",
       "    }\n",
       "\n",
       "    .dataframe tbody tr th {\n",
       "        vertical-align: top;\n",
       "    }\n",
       "\n",
       "    .dataframe thead th {\n",
       "        text-align: right;\n",
       "    }\n",
       "</style>\n",
       "<table border=\"1\" class=\"dataframe\">\n",
       "  <thead>\n",
       "    <tr style=\"text-align: right;\">\n",
       "      <th></th>\n",
       "      <th>filename</th>\n",
       "      <th>label</th>\n",
       "      <th>prob</th>\n",
       "      <th>bin</th>\n",
       "    </tr>\n",
       "  </thead>\n",
       "  <tbody>\n",
       "    <tr>\n",
       "      <th>0</th>\n",
       "      <td>./data/CelebA/images/065143.jpg</td>\n",
       "      <td>1</td>\n",
       "      <td>0.906238</td>\n",
       "      <td>9</td>\n",
       "    </tr>\n",
       "  </tbody>\n",
       "</table>\n",
       "</div>"
      ],
      "text/plain": [
       "                          filename label      prob  bin\n",
       "0  ./data/CelebA/images/065143.jpg     1  0.906238    9"
      ]
     },
     "execution_count": 28,
     "metadata": {},
     "output_type": "execute_result"
    }
   ],
   "source": [
    "df.head(1)"
   ]
  },
  {
   "cell_type": "code",
   "execution_count": 29,
   "metadata": {},
   "outputs": [
    {
     "data": {
      "text/html": [
       "<div>\n",
       "<style scoped>\n",
       "    .dataframe tbody tr th:only-of-type {\n",
       "        vertical-align: middle;\n",
       "    }\n",
       "\n",
       "    .dataframe tbody tr th {\n",
       "        vertical-align: top;\n",
       "    }\n",
       "\n",
       "    .dataframe thead th {\n",
       "        text-align: right;\n",
       "    }\n",
       "</style>\n",
       "<table border=\"1\" class=\"dataframe\">\n",
       "  <thead>\n",
       "    <tr style=\"text-align: right;\">\n",
       "      <th></th>\n",
       "      <th>filename</th>\n",
       "      <th>label</th>\n",
       "      <th>prob</th>\n",
       "    </tr>\n",
       "    <tr>\n",
       "      <th>bin</th>\n",
       "      <th></th>\n",
       "      <th></th>\n",
       "      <th></th>\n",
       "    </tr>\n",
       "  </thead>\n",
       "  <tbody>\n",
       "    <tr>\n",
       "      <th>0</th>\n",
       "      <td>13909</td>\n",
       "      <td>13909</td>\n",
       "      <td>13909</td>\n",
       "    </tr>\n",
       "    <tr>\n",
       "      <th>1</th>\n",
       "      <td>5863</td>\n",
       "      <td>5863</td>\n",
       "      <td>5863</td>\n",
       "    </tr>\n",
       "    <tr>\n",
       "      <th>2</th>\n",
       "      <td>4842</td>\n",
       "      <td>4842</td>\n",
       "      <td>4842</td>\n",
       "    </tr>\n",
       "    <tr>\n",
       "      <th>3</th>\n",
       "      <td>4737</td>\n",
       "      <td>4737</td>\n",
       "      <td>4737</td>\n",
       "    </tr>\n",
       "    <tr>\n",
       "      <th>4</th>\n",
       "      <td>5352</td>\n",
       "      <td>5352</td>\n",
       "      <td>5352</td>\n",
       "    </tr>\n",
       "    <tr>\n",
       "      <th>5</th>\n",
       "      <td>6369</td>\n",
       "      <td>6369</td>\n",
       "      <td>6369</td>\n",
       "    </tr>\n",
       "    <tr>\n",
       "      <th>6</th>\n",
       "      <td>8191</td>\n",
       "      <td>8191</td>\n",
       "      <td>8191</td>\n",
       "    </tr>\n",
       "    <tr>\n",
       "      <th>7</th>\n",
       "      <td>11525</td>\n",
       "      <td>11525</td>\n",
       "      <td>11525</td>\n",
       "    </tr>\n",
       "    <tr>\n",
       "      <th>8</th>\n",
       "      <td>19930</td>\n",
       "      <td>19930</td>\n",
       "      <td>19930</td>\n",
       "    </tr>\n",
       "    <tr>\n",
       "      <th>9</th>\n",
       "      <td>121842</td>\n",
       "      <td>121842</td>\n",
       "      <td>121842</td>\n",
       "    </tr>\n",
       "  </tbody>\n",
       "</table>\n",
       "</div>"
      ],
      "text/plain": [
       "     filename   label    prob\n",
       "bin                          \n",
       "0       13909   13909   13909\n",
       "1        5863    5863    5863\n",
       "2        4842    4842    4842\n",
       "3        4737    4737    4737\n",
       "4        5352    5352    5352\n",
       "5        6369    6369    6369\n",
       "6        8191    8191    8191\n",
       "7       11525   11525   11525\n",
       "8       19930   19930   19930\n",
       "9      121842  121842  121842"
      ]
     },
     "execution_count": 29,
     "metadata": {},
     "output_type": "execute_result"
    }
   ],
   "source": [
    "df.groupby(by='bin').count()"
   ]
  },
  {
   "cell_type": "code",
   "execution_count": 30,
   "metadata": {},
   "outputs": [],
   "source": [
    "n = 5000"
   ]
  },
  {
   "cell_type": "markdown",
   "metadata": {},
   "source": [
    "# Calibrated Sampling"
   ]
  },
  {
   "cell_type": "code",
   "execution_count": 31,
   "metadata": {},
   "outputs": [
    {
     "name": "stdout",
     "output_type": "stream",
     "text": [
      "0\n",
      "(13909, 4)\n",
      "0.00061805535 0.09999551\n",
      "(array([0.0, 1.0], dtype=object), array([13581,   328]))\n",
      "(5000, 4)\n",
      "(array([0.0], dtype=object), array([5000]))\n",
      "1\n",
      "(5863, 4)\n",
      "0.10003349 0.19999686\n",
      "(array([0.0, 1.0], dtype=object), array([5305,  558]))\n",
      "(10000, 4)\n",
      "(array([0.0, 1.0], dtype=object), array([4500,  500]))\n",
      "2\n",
      "(4842, 4)\n",
      "0.20005074 0.29999098\n",
      "(array([0.0, 1.0], dtype=object), array([4061,  781]))\n",
      "(14781, 4)\n",
      "(array([0.0, 1.0], dtype=object), array([4000,  781]))\n",
      "3\n",
      "(4737, 4)\n",
      "0.3000259 0.39998657\n",
      "(array([0.0, 1.0], dtype=object), array([3529, 1208]))\n",
      "(19489, 4)\n",
      "(array([0.0, 1.0], dtype=object), array([3500, 1208]))\n",
      "4\n",
      "(5352, 4)\n",
      "0.40000588 0.49998307\n",
      "(array([0.0, 1.0], dtype=object), array([3455, 1897]))\n",
      "(24386, 4)\n",
      "(array([0.0, 1.0], dtype=object), array([3000, 1897]))\n",
      "5\n",
      "(6369, 4)\n",
      "0.5000137 0.5999814\n",
      "(array([0.0, 1.0], dtype=object), array([3361, 3008]))\n",
      "(29386, 4)\n",
      "(array([0.0, 1.0], dtype=object), array([2500, 2500]))\n",
      "6\n",
      "(8191, 4)\n",
      "0.60003275 0.6999878\n",
      "(array([0.0, 1.0], dtype=object), array([3300, 4891]))\n",
      "(34386, 4)\n",
      "(array([0.0, 1.0], dtype=object), array([1999, 3001]))\n",
      "7\n",
      "(11525, 4)\n",
      "0.70001286 0.7999984\n",
      "(array([0.0, 1.0], dtype=object), array([3199, 8326]))\n",
      "(39386, 4)\n",
      "(array([0.0, 1.0], dtype=object), array([1499, 3501]))\n",
      "8\n",
      "(19930, 4)\n",
      "0.800006 0.8999983\n",
      "(array([0.0, 1.0], dtype=object), array([ 3053, 16877]))\n",
      "(44386, 4)\n",
      "(array([0.0, 1.0], dtype=object), array([ 999, 4001]))\n",
      "9\n",
      "(121842, 4)\n",
      "0.9000013 0.9999995\n",
      "(array([0.0, 1.0], dtype=object), array([  3013, 118829]))\n",
      "(49386, 4)\n",
      "(array([0.0, 1.0], dtype=object), array([ 499, 4501]))\n"
     ]
    }
   ],
   "source": [
    "for i in range(10):\n",
    "    print(i)\n",
    "    df_bin = df.loc[df['bin'] == i]\n",
    "    print(df_bin.shape)\n",
    "    print(np.min(df_bin['prob']), np.max(df_bin['prob']))\n",
    "    print(np.unique(df_bin['label'],return_counts=True))\n",
    "    df_bin_0 = df.loc[(df['bin'] == i) & (df['label'] ==0)]\n",
    "    df_bin_1 = df.loc[(df['bin'] == i) & (df['label'] ==1)]\n",
    "    n_0 = int((1 - (0.1 * i) ) * n)\n",
    "    if df_bin_0.shape[0] >= n_0:\n",
    "        df_bin = df_bin_0.sample(n=n_0)\n",
    "    else:\n",
    "        df_bin = df_bin_0\n",
    "        n_0 = df_bin_0.shape[0]\n",
    "    n_1 = n - n_0\n",
    "    if df_bin_1.shape[0] >= n_1:\n",
    "        df_bin = pd.concat([df_bin, df_bin_1.sample(n=n_1)])        \n",
    "    else:\n",
    "        df_bin = pd.concat([df_bin, df_bin_1])    \n",
    "        \n",
    "    if i == 0:\n",
    "        df_bin_all = df_bin\n",
    "    else:\n",
    "        df_bin_all = pd.concat([df_bin, df_bin_all])\n",
    "    print(df_bin_all.shape)\n",
    "    print(np.unique(df_bin['label'],return_counts=True))"
   ]
  },
  {
   "cell_type": "code",
   "execution_count": 32,
   "metadata": {},
   "outputs": [
    {
     "name": "stdout",
     "output_type": "stream",
     "text": [
      "(array([0, 1, 2, 3, 4, 5, 6, 7, 8, 9]), array([5000, 5000, 4781, 4708, 4897, 5000, 5000, 5000, 5000, 5000]))\n"
     ]
    }
   ],
   "source": [
    "print(np.unique(df_bin_all['bin'] ,return_counts=True))"
   ]
  },
  {
   "cell_type": "code",
   "execution_count": 33,
   "metadata": {},
   "outputs": [
    {
     "data": {
      "image/png": "[encoded data removed]",
      "text/plain": [
       "<Figure size 640x480 with 1 Axes>"
      ]
     },
     "metadata": {},
     "output_type": "display_data"
    }
   ],
   "source": [
    "#Reliability Curve\n",
    "from sklearn.calibration import CalibratedClassifierCV, calibration_curve\n",
    "from sklearn.metrics import (brier_score_loss, precision_score, recall_score,\n",
    "                             f1_score)\n",
    "true_label = np.asarray(df_bin_all['label']).astype(int)\n",
    "predicted_prob = np.asarray(df_bin_all['prob']).astype(float)\n",
    "fraction_of_positives, mean_predicted_value = calibration_curve(true_label, predicted_prob, n_bins=10)\n",
    "clf_score = brier_score_loss(true_label, predicted_prob, pos_label=1)\n",
    "plt.plot(mean_predicted_value, fraction_of_positives, \"s-\",\n",
    "                 label=\"%s (%1.3f)\" % ('Data-after binning', clf_score))\n",
    "plt.plot([0, 1], [0, 1], \"k:\", label=\"Perfectly calibrated\")\n",
    "plt.ylabel('Fraction of positives')\n",
    "plt.ylim([-0.05, 1.05])\n",
    "plt.title('Calibration plots  (reliability curve) for '+name)\n",
    "plt.legend()\n",
    "plt.show()"
   ]
  },
  {
   "cell_type": "markdown",
   "metadata": {},
   "source": [
    "# Save the output"
   ]
  },
  {
   "cell_type": "code",
   "execution_count": 34,
   "metadata": {},
   "outputs": [],
   "source": [
    "experiment_dir = os.path.join('.'+config['log_dir'], config['name'], 'explainer_input')"
   ]
  },
  {
   "cell_type": "code",
   "execution_count": 35,
   "metadata": {},
   "outputs": [
    {
     "name": "stdout",
     "output_type": "stream",
     "text": [
      "../output/classifier/CelebA-Young/explainer_input Young\n"
     ]
    }
   ],
   "source": [
    "print(experiment_dir,name)\n",
    "if not os.path.exists(experiment_dir):\n",
    "    os.makedirs(experiment_dir)"
   ]
  },
  {
   "cell_type": "code",
   "execution_count": 36,
   "metadata": {},
   "outputs": [
    {
     "name": "stdout",
     "output_type": "stream",
     "text": [
      "(49386, 2)\n",
      "49386\n",
      "\n",
      "0-0.09 0.1-0.19 0.2-0.29 0.3-0.39 0.4-0.49 0.5-0.59 0.6-0.69 0.7-0.79 0.8-0.89 0.9-0.99\n",
      "\n",
      "./data/CelebA/images/082853.jpg 9\n",
      "\n",
      "./data/CelebA/images/201092.jpg 9\n",
      "\n",
      "./data/CelebA/images/054064.jpg 9\n",
      "\n",
      "./data/CelebA/images/162262.jpg 9\n",
      "\n"
     ]
    }
   ],
   "source": [
    "df_temp = df_bin_all[['filename', 'bin']]\n",
    "df_temp.to_csv(os.path.join(experiment_dir, 'list_attr_celeba_'+name+'.txt'), sep = ' ', index = None, header = None)\n",
    "print(df_temp.shape)\n",
    "one_line = str(df_temp.shape[0]) + '\\n'\n",
    "second_line = \"0-0.09 0.1-0.19 0.2-0.29 0.3-0.39 0.4-0.49 0.5-0.59 0.6-0.69 0.7-0.79 0.8-0.89 0.9-0.99\\n\"\n",
    "with open(os.path.join(experiment_dir, 'list_attr_celeba_'+name+'.txt'), 'r+') as fp:\n",
    "    lines = fp.readlines()     # lines is list of line, each element '...\\n'\n",
    "    lines.insert(0, one_line)  # you can use any index if you know the line index\n",
    "    lines.insert(1, second_line)\n",
    "    fp.seek(0)                 # file pointer locates at the beginning to write the whole file again\n",
    "    fp.writelines(lines) \n",
    "fp = open(os.path.join(experiment_dir, 'list_attr_celeba_'+name+'.txt'), 'r+')\n",
    "print(fp.readline())\n",
    "print(fp.readline())\n",
    "print(fp.readline())\n",
    "print(fp.readline())\n",
    "print(fp.readline())\n",
    "print(fp.readline())\n",
    "df_bin_all.to_csv(os.path.join(experiment_dir, 'Data_Output_Classifier_'+name+'.csv'), sep = ' ', index = None)\n",
    "df_test_results.to_csv(os.path.join(experiment_dir, 'Data_Output_Classifier_All_Test_'+name+'.csv'), sep = ' ', index = None)\n",
    "df_train_results.to_csv(os.path.join(experiment_dir, 'Data_Output_Classifier_All_Train_'+name+'.csv'), sep = ' ', index = None)"
   ]
  },
  {
   "cell_type": "code",
   "execution_count": 37,
   "metadata": {},
   "outputs": [],
   "source": [
    "df_combine = pd.read_csv(os.path.join(experiment_dir, 'Data_Output_Classifier_'+name+'.csv'), sep = ' ')"
   ]
  },
  {
   "cell_type": "code",
   "execution_count": 38,
   "metadata": {},
   "outputs": [
    {
     "data": {
      "image/png": "[encoded data removed]",
      "text/plain": [
       "<Figure size 640x480 with 1 Axes>"
      ]
     },
     "metadata": {},
     "output_type": "display_data"
    }
   ],
   "source": [
    "#Reliability Curve\n",
    "from sklearn.calibration import CalibratedClassifierCV, calibration_curve\n",
    "from sklearn.metrics import (brier_score_loss, precision_score, recall_score,\n",
    "                             f1_score)\n",
    "\n",
    "fraction_of_positives, mean_predicted_value = calibration_curve(df_combine['label'], df_combine[\"prob\"], n_bins=10)\n",
    "clf_score = brier_score_loss(df_combine['label'], df_combine[\"prob\"], pos_label=1)\n",
    "plt.plot(mean_predicted_value, fraction_of_positives, \"s-\",\n",
    "                 label=\"%s (%1.3f)\" % ('Data', clf_score))\n",
    "plt.plot([0, 1], [0, 1], \"k:\", label=\"Perfectly calibrated\")\n",
    "plt.ylabel('Fraction of positives')\n",
    "plt.ylim([-0.05, 1.05])\n",
    "plt.title('Calibration plots  (reliability curve)')\n",
    "plt.legend()\n",
    "plt.show()"
   ]
  },
  {
   "cell_type": "code",
   "execution_count": null,
   "metadata": {},
   "outputs": [],
   "source": []
  }
 ],
 "metadata": {
  "kernelspec": {
   "display_name": "Python 3 (ipykernel)",
   "language": "python",
   "name": "python3"
  },
  "language_info": {
   "codemirror_mode": {
    "name": "ipython",
    "version": 3
   },
   "file_extension": ".py",
   "mimetype": "text/x-python",
   "name": "python",
   "nbconvert_exporter": "python",
   "pygments_lexer": "ipython3",
   "version": "3.8.19"
  }
 },
 "nbformat": 4,
 "nbformat_minor": 4
}
